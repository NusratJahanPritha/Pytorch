{
 "cells": [
  {
   "cell_type": "code",
   "execution_count": 1,
   "id": "29294f55",
   "metadata": {},
   "outputs": [],
   "source": [
    "import os\n",
    "import torch\n",
    "from torch import nn\n",
    "from torch.utils.data import DataLoader\n",
    "from torchvision import datasets, transforms"
   ]
  },
  {
   "cell_type": "code",
   "execution_count": 2,
   "id": "557a388b",
   "metadata": {},
   "outputs": [
    {
     "name": "stdout",
     "output_type": "stream",
     "text": [
      "Using cpu device\n"
     ]
    }
   ],
   "source": [
    "device = 'cuda' if torch.cuda.is_available() else 'cpu'\n",
    "print(f'Using {device} device')"
   ]
  },
  {
   "cell_type": "code",
   "execution_count": 3,
   "id": "6d984fda",
   "metadata": {},
   "outputs": [],
   "source": [
    "class CNN(nn.Module):\n",
    "    def __init__(self):\n",
    "        super(CNN, self).__init__()\n",
    "        \n",
    "        self.model1 = nn.Sequential(\n",
    "            nn.Conv2d(3, 64, kernel_size=3, stride=1,padding=1),\n",
    "            nn.ReLU(),    \n",
    "            nn.Conv2d(64, 64, kernel_size=3, stride=1,padding=1),\n",
    "            nn.ReLU(),\n",
    "            nn.MaxPool2d(kernel_size=(3,3), stride=2, padding=1, dilation=1, ceil_mode=False), \n",
    "            \n",
    "            \n",
    "            nn.Conv2d(64, 128, kernel_size=3, stride=1,padding=1),\n",
    "            nn.ReLU(),    \n",
    "            nn.Conv2d(128, 128, kernel_size=3, stride=1,padding=1),\n",
    "            nn.ReLU(),    \n",
    "            nn.MaxPool2d(kernel_size=(3,3), stride=2, padding=1, dilation=1, ceil_mode=False), \n",
    "            \n",
    "            \n",
    "            nn.Conv2d(128, 256, kernel_size=3, stride=1,padding=1),\n",
    "            nn.ReLU(),    \n",
    "            nn.Conv2d(256, 256, kernel_size=3, stride=1,padding=1),\n",
    "            nn.ReLU(),    \n",
    "            nn.MaxPool2d(kernel_size=(3,3), stride=2, padding=1, dilation=1, ceil_mode=False),\n",
    "            \n",
    "            \n",
    "            nn.Conv2d(256, 512, kernel_size=3, stride=1,padding=1),\n",
    "            nn.ReLU(),    \n",
    "            nn.Conv2d(512, 512, kernel_size=3, stride=1,padding=1),\n",
    "            nn.ReLU(), \n",
    "            nn.Conv2d(512, 512, kernel_size=3, stride=1,padding=1),\n",
    "            nn.ReLU(),\n",
    "            nn.MaxPool2d(kernel_size=(3,3), stride=2, padding=1, dilation=1, ceil_mode=False),\n",
    "            \n",
    "            \n",
    "            nn.Conv2d(512, 512, kernel_size=3, stride=1,padding=1),\n",
    "            nn.ReLU(),    \n",
    "            nn.Conv2d(512, 512, kernel_size=3, stride=1,padding=1),\n",
    "            nn.ReLU(), \n",
    "            nn.Conv2d(512, 512, kernel_size=3, stride=1,padding=1),\n",
    "            nn.ReLU(),\n",
    "            nn.MaxPool2d(kernel_size=(3,3), stride=2, padding=1, dilation=1, ceil_mode=False),\n",
    "            \n",
    "            nn.Flatten(),\n",
    "            nn.Linear(25088, 25088),\n",
    "            nn.ReLU(),\n",
    "            nn.Linear(25088, 4096),\n",
    "            nn.ReLU(),\n",
    "            nn.Linear(4096, 4096),\n",
    "            nn.ReLU(),\n",
    "            nn.Linear(4096,1000),\n",
    "            nn.Softmax(dim=1)    \n",
    "        )\n",
    "\n",
    "    def forward(self, x):\n",
    "        logits = self.model1(x)\n",
    "        return logits"
   ]
  },
  {
   "cell_type": "code",
   "execution_count": 4,
   "id": "d251cba5",
   "metadata": {},
   "outputs": [
    {
     "name": "stdout",
     "output_type": "stream",
     "text": [
      "CNN(\n",
      "  (model1): Sequential(\n",
      "    (0): Conv2d(3, 64, kernel_size=(3, 3), stride=(1, 1), padding=(1, 1))\n",
      "    (1): ReLU()\n",
      "    (2): Conv2d(64, 64, kernel_size=(3, 3), stride=(1, 1), padding=(1, 1))\n",
      "    (3): ReLU()\n",
      "    (4): MaxPool2d(kernel_size=(3, 3), stride=2, padding=1, dilation=1, ceil_mode=False)\n",
      "    (5): Conv2d(64, 128, kernel_size=(3, 3), stride=(1, 1), padding=(1, 1))\n",
      "    (6): ReLU()\n",
      "    (7): Conv2d(128, 128, kernel_size=(3, 3), stride=(1, 1), padding=(1, 1))\n",
      "    (8): ReLU()\n",
      "    (9): MaxPool2d(kernel_size=(3, 3), stride=2, padding=1, dilation=1, ceil_mode=False)\n",
      "    (10): Conv2d(128, 256, kernel_size=(3, 3), stride=(1, 1), padding=(1, 1))\n",
      "    (11): ReLU()\n",
      "    (12): Conv2d(256, 256, kernel_size=(3, 3), stride=(1, 1), padding=(1, 1))\n",
      "    (13): ReLU()\n",
      "    (14): MaxPool2d(kernel_size=(3, 3), stride=2, padding=1, dilation=1, ceil_mode=False)\n",
      "    (15): Conv2d(256, 512, kernel_size=(3, 3), stride=(1, 1), padding=(1, 1))\n",
      "    (16): ReLU()\n",
      "    (17): Conv2d(512, 512, kernel_size=(3, 3), stride=(1, 1), padding=(1, 1))\n",
      "    (18): ReLU()\n",
      "    (19): Conv2d(512, 512, kernel_size=(3, 3), stride=(1, 1), padding=(1, 1))\n",
      "    (20): ReLU()\n",
      "    (21): MaxPool2d(kernel_size=(3, 3), stride=2, padding=1, dilation=1, ceil_mode=False)\n",
      "    (22): Conv2d(512, 512, kernel_size=(3, 3), stride=(1, 1), padding=(1, 1))\n",
      "    (23): ReLU()\n",
      "    (24): Conv2d(512, 512, kernel_size=(3, 3), stride=(1, 1), padding=(1, 1))\n",
      "    (25): ReLU()\n",
      "    (26): Conv2d(512, 512, kernel_size=(3, 3), stride=(1, 1), padding=(1, 1))\n",
      "    (27): ReLU()\n",
      "    (28): MaxPool2d(kernel_size=(3, 3), stride=2, padding=1, dilation=1, ceil_mode=False)\n",
      "    (29): Flatten(start_dim=1, end_dim=-1)\n",
      "    (30): Linear(in_features=25088, out_features=25088, bias=True)\n",
      "    (31): ReLU()\n",
      "    (32): Linear(in_features=25088, out_features=4096, bias=True)\n",
      "    (33): ReLU()\n",
      "    (34): Linear(in_features=4096, out_features=4096, bias=True)\n",
      "    (35): ReLU()\n",
      "    (36): Linear(in_features=4096, out_features=1000, bias=True)\n",
      "    (37): Softmax(dim=1)\n",
      "  )\n",
      ")\n"
     ]
    }
   ],
   "source": [
    "model = CNN().to(device)\n",
    "print(model)"
   ]
  },
  {
   "cell_type": "code",
   "execution_count": 5,
   "id": "f78b79d4",
   "metadata": {},
   "outputs": [
    {
     "name": "stdout",
     "output_type": "stream",
     "text": [
      "torch.Size([1, 1000])\n"
     ]
    }
   ],
   "source": [
    "x=torch.randn(1,3,224,224)\n",
    "model=CNN()\n",
    "pred = model(x)\n",
    "print(pred.shape)"
   ]
  }
 ],
 "metadata": {
  "kernelspec": {
   "display_name": "Python 3 (ipykernel)",
   "language": "python",
   "name": "python3"
  },
  "language_info": {
   "codemirror_mode": {
    "name": "ipython",
    "version": 3
   },
   "file_extension": ".py",
   "mimetype": "text/x-python",
   "name": "python",
   "nbconvert_exporter": "python",
   "pygments_lexer": "ipython3",
   "version": "3.8.10"
  }
 },
 "nbformat": 4,
 "nbformat_minor": 5
}
